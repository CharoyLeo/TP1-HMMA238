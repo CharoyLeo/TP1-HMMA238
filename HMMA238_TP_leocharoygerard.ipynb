{
 "cells": [
  {
   "cell_type": "markdown",
   "metadata": {},
   "source": [
    "# HMMA238-TP1\n",
    "Charoy-Gerard Leo   M1 MIND 2020"
   ]
  },
  {
   "cell_type": "code",
   "execution_count": 1,
   "metadata": {},
   "outputs": [],
   "source": [
    "import numpy as np\n",
    "import matplotlib.pyplot as plt\n",
    "import math\n",
    "from matplotlib import animation"
   ]
  },
  {
   "cell_type": "code",
   "execution_count": 2,
   "metadata": {},
   "outputs": [],
   "source": [
    "%run   '/home/e20140032223/Bureau/outils.py'    # fonctions du sujet"
   ]
  },
  {
   "cell_type": "code",
   "execution_count": 3,
   "metadata": {},
   "outputs": [],
   "source": [
    "filename = 'HMMA238_TP_leocharoygerard.ipynb'\n",
    "taille_str = len(filename)\n",
    "ma_graine = taille_str % 6"
   ]
  },
  {
   "cell_type": "code",
   "execution_count": 30,
   "metadata": {},
   "outputs": [],
   "source": [
    "Z=[[0,0,0,0,0,0],\n",
    "   [0,0,0,1,0,0],\n",
    "   [0,1,0,1,0,0],\n",
    "   [0,0,1,1,0,0],\n",
    "   [0,0,0,0,0,0],\n",
    "   [0,0,0,0,0,0]]\n"
   ]
  },
  {
   "cell_type": "code",
   "execution_count": 5,
   "metadata": {},
   "outputs": [
    {
     "data": {
      "text/plain": [
       "[[0, 0, 0, 0, 0, 0],\n",
       " [0, 1, 3, 1, 2, 0],\n",
       " [0, 1, 5, 3, 3, 0],\n",
       " [0, 2, 3, 2, 2, 0],\n",
       " [0, 1, 2, 2, 1, 0],\n",
       " [0, 0, 0, 0, 0, 0]]"
      ]
     },
     "execution_count": 5,
     "metadata": {},
     "output_type": "execute_result"
    }
   ],
   "source": [
    "calcul_nb_voisins(Z)"
   ]
  },
  {
   "cell_type": "raw",
   "metadata": {},
   "source": [
    "Il est clair que la fonction prend en argument une liste de liste et renvoie pour chaque cellule le nombre de \"1\" présent dans ses 8 cellules contiguës, de nouveau sous forme de liste. \n",
    "On a ainsi le nombre de voisins de chaque élément de la matrice Z. \n",
    "\n",
    "Quand à la fonction iteration_jeu, son effet consiste, en utilisant les nombres de voisins des cellules et les règles du jeu de la vie, à renvoyer l'état suivant du jeu, sous forme de liste de liste. \n",
    "Elle permet cependant de réaliser une unique itération. Le docstring a été ajouté dans outils.py ."
   ]
  },
  {
   "cell_type": "code",
   "execution_count": 48,
   "metadata": {},
   "outputs": [
    {
     "data": {
      "image/png": "[encoded data removed]",
      "text/plain": [
       "<Figure size 432x288 with 10 Axes>"
      ]
     },
     "metadata": {
      "needs_background": "light"
     },
     "output_type": "display_data"
    }
   ],
   "source": [
    "# 5) Appliquons 10 itérations du jeu de la vie à la matrice Z, en convertissant les listes en array entre temps #\n",
    "Z_copy = np.copy(Z)\n",
    "for i in range(1,11):\n",
    "    plt.subplot(2,5,i)       # 2 lignes, 5 colonnes\n",
    "    plt.axis('off')\n",
    "    plt.imshow(np.array(Z_copy))     # nécessaire pour utiliser imshow\n",
    "    plt.title(i-1)\n",
    "    iteration_jeu(Z_copy)"
   ]
  },
  {
   "cell_type": "raw",
   "metadata": {},
   "source": [
    "6) \n",
    "Sur les 5 premières opérations, le jeu a fourni des rotations de la figure paire originale (0)\n",
    "sur les itérations paires ( 2 et 4). \n",
    "Identiquement, la figure à l'étape 1 est la même qu'à l'étape 3, subissant simplement des placements \n",
    "et orientations  différents.\n",
    "A partir de la 7ème itération, la matrice est stabilisée et reste identique. Le jeu a spontanément abouti à une structure stable."
   ]
  },
  {
   "cell_type": "code",
   "execution_count": 49,
   "metadata": {},
   "outputs": [
    {
     "data": {
      "text/plain": [
       "array([0., 0., 1., 1., 1., 0.])"
      ]
     },
     "execution_count": 49,
     "metadata": {},
     "output_type": "execute_result"
    }
   ],
   "source": [
    "vect = np.array([0,1,0,0,1,1])\n",
    "nb_vect = np.zeros(vect.shape)\n",
    "nb_vect[1:-1] += (vect[:-2] + vect[2:])\n",
    "nb_vect"
   ]
  },
  {
   "cell_type": "raw",
   "metadata": {},
   "source": [
    "7 ) \n",
    "On constate l'obtention (dans nb_vect) du nombre de voisins de chaque cellule dans ce vecteur ligne.\n",
    "En effet, chaque nouvelle cellule est maintenant la somme des deux l'entourant, les cellules vivantes étant codées par des 1, le comptage sur la ligne se fait automatiquement.\n",
    "\n",
    "Par ailleurs, les 1 sur les bords sont naturellement réduits à 0, ce qui est souhaitable, compte-tenu de la bordure vide du jeu de la vie. Cela permettra entre autre une initialisation sur Z plus aisée.\n",
    "\n",
    "Afin d'améliorer la fonction de comptage des voisins avec numpy, on peut réitérer cette manoeuvre sur colonne et diagonales de chaque cellule.\n",
    "Soit :\n"
   ]
  },
  {
   "cell_type": "code",
   "execution_count": 55,
   "metadata": {},
   "outputs": [],
   "source": [
    "def calcul_nb_voisins_np(Z):\n",
    "    n = Z.shape[0]\n",
    "    p = Z.shape[1] \n",
    "    Z_copy = np.copy(Z)\n",
    "    voisins_ligne = np.array([[0,]*n for i in range(p)])\n",
    "    voisins_colonne = np.array([[0,]*n for i in range(p)])\n",
    "    voisins_diagonales = np.array([[0,]*n for i in range(p)])\n",
    "\n",
    "    \n",
    "    for x in range(1,n-1):\n",
    "        voisins_ligne[x,1:-1] = Z_copy[x,2:]+Z_copy[x,:-2]      # comme vu au dessus\n",
    "        for y in range(1,p-1):\n",
    "            voisins_colonne[1:-1,y] = Z_copy[2:,y]+Z_copy[:-2,y]   # identiquement sur les colonnes\n",
    "            for k in range(1,n-1):\n",
    "                for l in range(1,p-1):\n",
    "                        voisins_diagonales[k,l] = voisins_ligne[k-1,l] + voisins_ligne[k+1,l]  \n",
    "\n",
    "           \n",
    "        \n",
    "                \n",
    "                voisinage_complet = voisins_ligne + voisins_colonne + voisins_diagonales\n",
    "                \n",
    "        \n",
    "            \n",
    "    return voisinage_complet"
   ]
  },
  {
   "cell_type": "code",
   "execution_count": 56,
   "metadata": {},
   "outputs": [
    {
     "data": {
      "text/plain": [
       "array([[0, 0, 0, 0, 0, 0],\n",
       "       [0, 1, 3, 1, 2, 0],\n",
       "       [0, 1, 5, 3, 3, 0],\n",
       "       [0, 2, 3, 2, 2, 0],\n",
       "       [0, 1, 2, 2, 1, 0],\n",
       "       [0, 0, 0, 0, 0, 0]])"
      ]
     },
     "execution_count": 56,
     "metadata": {},
     "output_type": "execute_result"
    }
   ],
   "source": [
    "calcul_nb_voisins_np(np.array(Z))  # maintenant, la fonction prends en compte des objets array."
   ]
  },
  {
   "cell_type": "code",
   "execution_count": 50,
   "metadata": {},
   "outputs": [],
   "source": [
    "def iteration_jeu_np(Z):   \n",
    "    '''Prends en argument un type array, et renvoie l itération suivante du jeu de la vie sous le même format'''\n",
    "    n = Z.shape[0]\n",
    "    p = Z.shape[1]    \n",
    "    N = calcul_nb_voisins_np(Z)    ## on utilise simplement la fonction précédente\n",
    "    for x in range(1,n-1):\n",
    "        for y in range(1,p-1):\n",
    "            if N[x][y] == 1 and (N[x][y] < 2 or N[x][y] > 3):    ## les règles sont les mêmes\n",
    "                Z[x][y] = 0\n",
    "            elif Z[x][y] == 0 and N[x][y] == 3:\n",
    "                Z[x][y] = 1\n",
    "    return Z"
   ]
  },
  {
   "cell_type": "raw",
   "metadata": {},
   "source": [
    "Pour récupérer l'état du jeu après un certain nombre d'itérations, on peut simplement faire comme suit :"
   ]
  },
  {
   "cell_type": "code",
   "execution_count": 51,
   "metadata": {},
   "outputs": [],
   "source": [
    "def jeu_np(Z_in, nb_iter) :\n",
    "    plt.figure()\n",
    "    Z_boucle = Z_in\n",
    "    for i in range(nb_iter):\n",
    "        plt.imshow(Z_boucle)\n",
    "        Z_boucle = iteration_jeu_np(Z_in)\n"
   ]
  },
  {
   "cell_type": "raw",
   "metadata": {},
   "source": [
    "A présent, initialisons une matrice de grande taille pour réaliser l'animation :"
   ]
  },
  {
   "cell_type": "code",
   "execution_count": 52,
   "metadata": {},
   "outputs": [],
   "source": [
    "Z_huge = np.zeros((100, 100))\n",
    "Z_np = np.array(\n",
    "[[0, 0, 0, 0, 0, 0],\n",
    "[0, 0, 0, 1, 0, 0],\n",
    "[0, 1, 0, 1, 0, 0],\n",
    "[0, 0, 1, 1, 0, 0],\n",
    "[0, 0, 0, 0, 0, 0],\n",
    "[0, 0, 0, 0, 0, 0]])\n",
    "Z_huge[10:16, 10:16] = Z_np"
   ]
  },
  {
   "cell_type": "code",
   "execution_count": 54,
   "metadata": {},
   "outputs": [
    {
     "ename": "KeyboardInterrupt",
     "evalue": "",
     "output_type": "error",
     "traceback": [
      "\u001b[0;31m---------------------------------------------------------------------------\u001b[0m",
      "\u001b[0;31mKeyboardInterrupt\u001b[0m                         Traceback (most recent call last)",
      "\u001b[0;32m<ipython-input-54-177c6e6d015a>\u001b[0m in \u001b[0;36m<module>\u001b[0;34m\u001b[0m\n\u001b[1;32m      3\u001b[0m \u001b[0;34m\u001b[0m\u001b[0m\n\u001b[1;32m      4\u001b[0m \u001b[0mfig\u001b[0m \u001b[0;34m=\u001b[0m \u001b[0mplt\u001b[0m\u001b[0;34m.\u001b[0m\u001b[0mfigure\u001b[0m\u001b[0;34m(\u001b[0m\u001b[0;34m)\u001b[0m\u001b[0;34m\u001b[0m\u001b[0;34m\u001b[0m\u001b[0m\n\u001b[0;32m----> 5\u001b[0;31m \u001b[0mimagelist\u001b[0m \u001b[0;34m=\u001b[0m \u001b[0;34m[\u001b[0m\u001b[0mjeu_np\u001b[0m\u001b[0;34m(\u001b[0m\u001b[0mZ_huge\u001b[0m\u001b[0;34m,\u001b[0m\u001b[0mi\u001b[0m\u001b[0;34m)\u001b[0m \u001b[0;32mfor\u001b[0m \u001b[0mi\u001b[0m \u001b[0;32min\u001b[0m \u001b[0mrange\u001b[0m\u001b[0;34m(\u001b[0m\u001b[0;36m15\u001b[0m\u001b[0;34m)\u001b[0m \u001b[0;34m]\u001b[0m\u001b[0;34m\u001b[0m\u001b[0;34m\u001b[0m\u001b[0m\n\u001b[0m\u001b[1;32m      6\u001b[0m \u001b[0mim\u001b[0m \u001b[0;34m=\u001b[0m \u001b[0mplt\u001b[0m\u001b[0;34m.\u001b[0m\u001b[0mimshow\u001b[0m\u001b[0;34m(\u001b[0m\u001b[0mimagelist\u001b[0m\u001b[0;34m[\u001b[0m\u001b[0;36m0\u001b[0m\u001b[0;34m]\u001b[0m\u001b[0;34m)\u001b[0m\u001b[0;34m\u001b[0m\u001b[0;34m\u001b[0m\u001b[0m\n\u001b[1;32m      7\u001b[0m \u001b[0;34m\u001b[0m\u001b[0m\n",
      "\u001b[0;32m<ipython-input-54-177c6e6d015a>\u001b[0m in \u001b[0;36m<listcomp>\u001b[0;34m(.0)\u001b[0m\n\u001b[1;32m      3\u001b[0m \u001b[0;34m\u001b[0m\u001b[0m\n\u001b[1;32m      4\u001b[0m \u001b[0mfig\u001b[0m \u001b[0;34m=\u001b[0m \u001b[0mplt\u001b[0m\u001b[0;34m.\u001b[0m\u001b[0mfigure\u001b[0m\u001b[0;34m(\u001b[0m\u001b[0;34m)\u001b[0m\u001b[0;34m\u001b[0m\u001b[0;34m\u001b[0m\u001b[0m\n\u001b[0;32m----> 5\u001b[0;31m \u001b[0mimagelist\u001b[0m \u001b[0;34m=\u001b[0m \u001b[0;34m[\u001b[0m\u001b[0mjeu_np\u001b[0m\u001b[0;34m(\u001b[0m\u001b[0mZ_huge\u001b[0m\u001b[0;34m,\u001b[0m\u001b[0mi\u001b[0m\u001b[0;34m)\u001b[0m \u001b[0;32mfor\u001b[0m \u001b[0mi\u001b[0m \u001b[0;32min\u001b[0m \u001b[0mrange\u001b[0m\u001b[0;34m(\u001b[0m\u001b[0;36m15\u001b[0m\u001b[0;34m)\u001b[0m \u001b[0;34m]\u001b[0m\u001b[0;34m\u001b[0m\u001b[0;34m\u001b[0m\u001b[0m\n\u001b[0m\u001b[1;32m      6\u001b[0m \u001b[0mim\u001b[0m \u001b[0;34m=\u001b[0m \u001b[0mplt\u001b[0m\u001b[0;34m.\u001b[0m\u001b[0mimshow\u001b[0m\u001b[0;34m(\u001b[0m\u001b[0mimagelist\u001b[0m\u001b[0;34m[\u001b[0m\u001b[0;36m0\u001b[0m\u001b[0;34m]\u001b[0m\u001b[0;34m)\u001b[0m\u001b[0;34m\u001b[0m\u001b[0;34m\u001b[0m\u001b[0m\n\u001b[1;32m      7\u001b[0m \u001b[0;34m\u001b[0m\u001b[0m\n",
      "\u001b[0;32m<ipython-input-51-a77e76485451>\u001b[0m in \u001b[0;36mjeu_np\u001b[0;34m(Z_in, nb_iter)\u001b[0m\n\u001b[1;32m      4\u001b[0m     \u001b[0;32mfor\u001b[0m \u001b[0mi\u001b[0m \u001b[0;32min\u001b[0m \u001b[0mrange\u001b[0m\u001b[0;34m(\u001b[0m\u001b[0mnb_iter\u001b[0m\u001b[0;34m)\u001b[0m\u001b[0;34m:\u001b[0m\u001b[0;34m\u001b[0m\u001b[0;34m\u001b[0m\u001b[0m\n\u001b[1;32m      5\u001b[0m         \u001b[0mplt\u001b[0m\u001b[0;34m.\u001b[0m\u001b[0mimshow\u001b[0m\u001b[0;34m(\u001b[0m\u001b[0mZ_boucle\u001b[0m\u001b[0;34m)\u001b[0m\u001b[0;34m\u001b[0m\u001b[0;34m\u001b[0m\u001b[0m\n\u001b[0;32m----> 6\u001b[0;31m         \u001b[0mZ_boucle\u001b[0m \u001b[0;34m=\u001b[0m \u001b[0miteration_jeu_np\u001b[0m\u001b[0;34m(\u001b[0m\u001b[0mZ_in\u001b[0m\u001b[0;34m)\u001b[0m\u001b[0;34m\u001b[0m\u001b[0;34m\u001b[0m\u001b[0m\n\u001b[0m",
      "\u001b[0;32m<ipython-input-50-fe699976438c>\u001b[0m in \u001b[0;36miteration_jeu_np\u001b[0;34m(Z)\u001b[0m\n\u001b[1;32m      3\u001b[0m     \u001b[0mn\u001b[0m \u001b[0;34m=\u001b[0m \u001b[0mZ\u001b[0m\u001b[0;34m.\u001b[0m\u001b[0mshape\u001b[0m\u001b[0;34m[\u001b[0m\u001b[0;36m0\u001b[0m\u001b[0;34m]\u001b[0m\u001b[0;34m\u001b[0m\u001b[0;34m\u001b[0m\u001b[0m\n\u001b[1;32m      4\u001b[0m     \u001b[0mp\u001b[0m \u001b[0;34m=\u001b[0m \u001b[0mZ\u001b[0m\u001b[0;34m.\u001b[0m\u001b[0mshape\u001b[0m\u001b[0;34m[\u001b[0m\u001b[0;36m1\u001b[0m\u001b[0;34m]\u001b[0m\u001b[0;34m\u001b[0m\u001b[0;34m\u001b[0m\u001b[0m\n\u001b[0;32m----> 5\u001b[0;31m     \u001b[0mN\u001b[0m \u001b[0;34m=\u001b[0m \u001b[0mcalcul_nb_voisins_np\u001b[0m\u001b[0;34m(\u001b[0m\u001b[0mZ\u001b[0m\u001b[0;34m)\u001b[0m    \u001b[0;31m## on utilise simplement la fonction précédente\u001b[0m\u001b[0;34m\u001b[0m\u001b[0;34m\u001b[0m\u001b[0m\n\u001b[0m\u001b[1;32m      6\u001b[0m     \u001b[0;32mfor\u001b[0m \u001b[0mx\u001b[0m \u001b[0;32min\u001b[0m \u001b[0mrange\u001b[0m\u001b[0;34m(\u001b[0m\u001b[0;36m1\u001b[0m\u001b[0;34m,\u001b[0m\u001b[0mn\u001b[0m\u001b[0;34m-\u001b[0m\u001b[0;36m1\u001b[0m\u001b[0;34m)\u001b[0m\u001b[0;34m:\u001b[0m\u001b[0;34m\u001b[0m\u001b[0;34m\u001b[0m\u001b[0m\n\u001b[1;32m      7\u001b[0m         \u001b[0;32mfor\u001b[0m \u001b[0my\u001b[0m \u001b[0;32min\u001b[0m \u001b[0mrange\u001b[0m\u001b[0;34m(\u001b[0m\u001b[0;36m1\u001b[0m\u001b[0;34m,\u001b[0m\u001b[0mp\u001b[0m\u001b[0;34m-\u001b[0m\u001b[0;36m1\u001b[0m\u001b[0;34m)\u001b[0m\u001b[0;34m:\u001b[0m\u001b[0;34m\u001b[0m\u001b[0;34m\u001b[0m\u001b[0m\n",
      "\u001b[0;32m<ipython-input-8-ac8081fc57bd>\u001b[0m in \u001b[0;36mcalcul_nb_voisins_np\u001b[0;34m(Z)\u001b[0m\n\u001b[1;32m     18\u001b[0m             \u001b[0;32mfor\u001b[0m \u001b[0mk\u001b[0m \u001b[0;32min\u001b[0m \u001b[0mrange\u001b[0m\u001b[0;34m(\u001b[0m\u001b[0;36m1\u001b[0m\u001b[0;34m,\u001b[0m\u001b[0mn\u001b[0m\u001b[0;34m-\u001b[0m\u001b[0;36m1\u001b[0m\u001b[0;34m)\u001b[0m\u001b[0;34m:\u001b[0m\u001b[0;34m\u001b[0m\u001b[0;34m\u001b[0m\u001b[0m\n\u001b[1;32m     19\u001b[0m                 \u001b[0;32mfor\u001b[0m \u001b[0ml\u001b[0m \u001b[0;32min\u001b[0m \u001b[0mrange\u001b[0m\u001b[0;34m(\u001b[0m\u001b[0;36m1\u001b[0m\u001b[0;34m,\u001b[0m\u001b[0mp\u001b[0m\u001b[0;34m-\u001b[0m\u001b[0;36m1\u001b[0m\u001b[0;34m)\u001b[0m\u001b[0;34m:\u001b[0m\u001b[0;34m\u001b[0m\u001b[0;34m\u001b[0m\u001b[0m\n\u001b[0;32m---> 20\u001b[0;31m                         \u001b[0mvoisins_diagonales\u001b[0m\u001b[0;34m[\u001b[0m\u001b[0mk\u001b[0m\u001b[0;34m,\u001b[0m\u001b[0ml\u001b[0m\u001b[0;34m]\u001b[0m \u001b[0;34m=\u001b[0m \u001b[0mvoisins_ligne\u001b[0m\u001b[0;34m[\u001b[0m\u001b[0mk\u001b[0m\u001b[0;34m-\u001b[0m\u001b[0;36m1\u001b[0m\u001b[0;34m,\u001b[0m\u001b[0ml\u001b[0m\u001b[0;34m]\u001b[0m \u001b[0;34m+\u001b[0m \u001b[0mvoisins_ligne\u001b[0m\u001b[0;34m[\u001b[0m\u001b[0mk\u001b[0m\u001b[0;34m+\u001b[0m\u001b[0;36m1\u001b[0m\u001b[0;34m,\u001b[0m\u001b[0ml\u001b[0m\u001b[0;34m]\u001b[0m\u001b[0;34m\u001b[0m\u001b[0;34m\u001b[0m\u001b[0m\n\u001b[0m\u001b[1;32m     21\u001b[0m \u001b[0;34m\u001b[0m\u001b[0m\n\u001b[1;32m     22\u001b[0m \u001b[0;34m\u001b[0m\u001b[0m\n",
      "\u001b[0;31mKeyboardInterrupt\u001b[0m: "
     ]
    },
    {
     "data": {
      "text/plain": [
       "<Figure size 432x288 with 0 Axes>"
      ]
     },
     "metadata": {},
     "output_type": "display_data"
    },
    {
     "data": {
      "text/plain": [
       "<Figure size 432x288 with 0 Axes>"
      ]
     },
     "metadata": {},
     "output_type": "display_data"
    },
    {
     "data": {
      "image/png": "[encoded data removed]",
      "text/plain": [
       "<Figure size 432x288 with 1 Axes>"
      ]
     },
     "metadata": {
      "needs_background": "light"
     },
     "output_type": "display_data"
    }
   ],
   "source": [
    "from IPython.display import HTML \n",
    "\n",
    "\n",
    "#fig = plt.figure()\n",
    "#imagelist = [jeu_np(Z_huge,i) for i in range(50) ]     ## on stocke les résultats\n",
    "#im = plt.imshow(imagelist[0])\n",
    "\n",
    "\n",
    "\n",
    "#def animate(i):\n",
    "    #im.set_array(imagelist[i])\n",
    "    #return im\n",
    "    \n",
    "#anim = animation.FuncAnimation(fig, animate, frames=range(20), \n",
    "                              #interval=50)\n",
    "#anim.save('film.mp4')\n",
    "#plt.show()"
   ]
  },
  {
   "cell_type": "raw",
   "metadata": {},
   "source": [
    "Le problème de comptage des voisins pose problème au niveau du temps de calcul (irréalisable)."
   ]
  },
  {
   "cell_type": "raw",
   "metadata": {},
   "source": [
    "Générons tout de même la matrice binaire aléatoire demandée à l'aide de la distribution binomiale :"
   ]
  },
  {
   "cell_type": "code",
   "execution_count": 42,
   "metadata": {},
   "outputs": [
    {
     "data": {
      "text/plain": [
       "array([[0, 0, 1, ..., 0, 0, 1],\n",
       "       [1, 0, 0, ..., 0, 0, 0],\n",
       "       [1, 1, 0, ..., 0, 0, 0],\n",
       "       ...,\n",
       "       [1, 0, 0, ..., 0, 0, 1],\n",
       "       [1, 1, 0, ..., 0, 0, 0],\n",
       "       [0, 1, 0, ..., 0, 0, 1]])"
      ]
     },
     "execution_count": 42,
     "metadata": {},
     "output_type": "execute_result"
    }
   ],
   "source": [
    "proportion = (1+ma_graine)*0.1\n",
    "\n",
    "# Cette proportion est l'espérance voulue de cellules vivantes.\n",
    "\n",
    "Z_in = np.random.binomial(1, proportion, size=(100,100))\n",
    "Z_in"
   ]
  },
  {
   "cell_type": "raw",
   "metadata": {},
   "source": [
    "Pour des problèmes de temps de calcul identiques, l'animation n'est pas réalisable."
   ]
  },
  {
   "cell_type": "raw",
   "metadata": {},
   "source": [
    "13 )  On trouve aisément dans la littérature des configurations stables : en voici 3 exemples dans les tailles requises."
   ]
  },
  {
   "cell_type": "code",
   "execution_count": 44,
   "metadata": {},
   "outputs": [
    {
     "data": {
      "image/png": "[encoded data removed]",
      "text/plain": [
       "<Figure size 1440x720 with 10 Axes>"
      ]
     },
     "metadata": {
      "needs_background": "light"
     },
     "output_type": "display_data"
    }
   ],
   "source": [
    "ruche = np.zeros((50,50))\n",
    "ruche[21,13:15]=1\n",
    "ruche[23,13:15]=1\n",
    "ruche[22,12]=1\n",
    "ruche[22,15]=1\n",
    "ruche_copy = np.copy(ruche)\n",
    "plt.figure(figsize=(20,10))\n",
    "for i in range(1,11):\n",
    "    plt.subplot(2,5,i)\n",
    "    plt.imshow(np.array(ruche_copy))\n",
    "    iteration_jeu(ruche_copy)\n",
    "\n",
    "\n"
   ]
  },
  {
   "cell_type": "raw",
   "metadata": {},
   "source": [
    "Pour une période de 2, il existe un oscillateur connu et intuitif : le clignotant.\n"
   ]
  },
  {
   "cell_type": "code",
   "execution_count": 45,
   "metadata": {},
   "outputs": [
    {
     "data": {
      "image/png": "[encoded data removed]",
      "text/plain": [
       "<Figure size 1440x720 with 10 Axes>"
      ]
     },
     "metadata": {
      "needs_background": "light"
     },
     "output_type": "display_data"
    }
   ],
   "source": [
    "clignotant = np.zeros((50,50))\n",
    "clignotant[7:10,12]=1\n",
    "clignotant_copy = np.copy(clignotant)\n",
    "plt.figure(figsize=(20,10))\n",
    "for i in range(1,11):\n",
    "    plt.subplot(2,5,i)\n",
    "    plt.imshow(np.array(clignotant_copy))\n",
    "    iteration_jeu(clignotant_copy)"
   ]
  },
  {
   "cell_type": "raw",
   "metadata": {},
   "source": [
    "Voici deux autres structures stables classiques, le porte-avion et la miche de pain :\n"
   ]
  },
  {
   "cell_type": "code",
   "execution_count": 46,
   "metadata": {
    "scrolled": true
   },
   "outputs": [
    {
     "data": {
      "image/png": "[encoded data removed]",
      "text/plain": [
       "<Figure size 1440x720 with 10 Axes>"
      ]
     },
     "metadata": {
      "needs_background": "light"
     },
     "output_type": "display_data"
    }
   ],
   "source": [
    "porte_avion = np.zeros((50,50))\n",
    "porte_avion[21,24:26]=1\n",
    "porte_avion[22,25]=1\n",
    "porte_avion[21,24:25]=1\n",
    "porte_avion[22:24,22]=1\n",
    "porte_avion[23,23]=1\n",
    "\n",
    "porte_avion_copy  = np.copy(porte_avion)\n",
    "plt.figure(figsize=(20,10))\n",
    "for i in range(1,11):\n",
    "    plt.subplot(2,5,i)\n",
    "    plt.imshow(np.array(porte_avion_copy))\n",
    "    iteration_jeu(porte_avion_copy)"
   ]
  },
  {
   "cell_type": "code",
   "execution_count": 47,
   "metadata": {},
   "outputs": [
    {
     "data": {
      "image/png": "[encoded data removed]",
      "text/plain": [
       "<Figure size 1440x720 with 10 Axes>"
      ]
     },
     "metadata": {
      "needs_background": "light"
     },
     "output_type": "display_data"
    }
   ],
   "source": [
    "miche = np.zeros((50,50))\n",
    "miche[20,21:23]=1\n",
    "miche[21:23,20]=1\n",
    "miche[23,21]=1\n",
    "miche[22,22]=1\n",
    "miche[21,23]=1\n",
    "\n",
    "miche_copy  = np.copy(miche)\n",
    "plt.figure(figsize=(20,10))\n",
    "for i in range(1,11):\n",
    "    plt.subplot(2,5,i)\n",
    "    plt.imshow(np.array(miche_copy))\n",
    "    iteration_jeu(miche_copy)"
   ]
  }
 ],
 "metadata": {
  "kernelspec": {
   "display_name": "Python 3",
   "language": "python",
   "name": "python3"
  },
  "language_info": {
   "codemirror_mode": {
    "name": "ipython",
    "version": 3
   },
   "file_extension": ".py",
   "mimetype": "text/x-python",
   "name": "python",
   "nbconvert_exporter": "python",
   "pygments_lexer": "ipython3",
   "version": "3.7.3"
  }
 },
 "nbformat": 4,
 "nbformat_minor": 2
}
